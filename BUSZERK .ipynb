{
  "nbformat": 4,
  "nbformat_minor": 0,
  "metadata": {
    "colab": {
      "provenance": []
    },
    "kernelspec": {
      "name": "python3",
      "display_name": "Python 3"
    },
    "language_info": {
      "name": "python"
    }
  },
  "cells": [
    {
      "cell_type": "markdown",
      "source": [
        "# **Install tool kit api**"
      ],
      "metadata": {
        "id": "GMhw0IcSy0q0"
      }
    },
    {
      "cell_type": "code",
      "execution_count": null,
      "metadata": {
        "colab": {
          "base_uri": "https://localhost:8080/"
        },
        "id": "eEh3JVfK62KS",
        "outputId": "f2332e18-0000-4288-9903-a4e1cb91c636"
      },
      "outputs": [
        {
          "output_type": "stream",
          "name": "stdout",
          "text": [
            "Collecting scikit-learn-intelex\n",
            "  Downloading scikit_learn_intelex-2024.7.0-py310-none-manylinux1_x86_64.whl.metadata (12 kB)\n",
            "Collecting daal4py==2024.7.0 (from scikit-learn-intelex)\n",
            "  Downloading daal4py-2024.7.0-py310-none-manylinux1_x86_64.whl.metadata (7.4 kB)\n",
            "Requirement already satisfied: scikit-learn>=0.22 in /usr/local/lib/python3.10/dist-packages (from scikit-learn-intelex) (1.5.2)\n",
            "Collecting daal==2024.7.0 (from daal4py==2024.7.0->scikit-learn-intelex)\n",
            "  Downloading daal-2024.7.0-py2.py3-none-manylinux1_x86_64.whl.metadata (1.1 kB)\n",
            "Requirement already satisfied: numpy>=1.19 in /usr/local/lib/python3.10/dist-packages (from daal4py==2024.7.0->scikit-learn-intelex) (1.26.4)\n",
            "Requirement already satisfied: tbb==2021.* in /usr/local/lib/python3.10/dist-packages (from daal==2024.7.0->daal4py==2024.7.0->scikit-learn-intelex) (2021.13.1)\n",
            "Requirement already satisfied: scipy>=1.6.0 in /usr/local/lib/python3.10/dist-packages (from scikit-learn>=0.22->scikit-learn-intelex) (1.13.1)\n",
            "Requirement already satisfied: joblib>=1.2.0 in /usr/local/lib/python3.10/dist-packages (from scikit-learn>=0.22->scikit-learn-intelex) (1.4.2)\n",
            "Requirement already satisfied: threadpoolctl>=3.1.0 in /usr/local/lib/python3.10/dist-packages (from scikit-learn>=0.22->scikit-learn-intelex) (3.5.0)\n",
            "Downloading scikit_learn_intelex-2024.7.0-py310-none-manylinux1_x86_64.whl (191 kB)\n",
            "\u001b[2K   \u001b[90m━━━━━━━━━━━━━━━━━━━━━━━━━━━━━━━━━━━━━━━━\u001b[0m \u001b[32m191.5/191.5 kB\u001b[0m \u001b[31m8.6 MB/s\u001b[0m eta \u001b[36m0:00:00\u001b[0m\n",
            "\u001b[?25hDownloading daal4py-2024.7.0-py310-none-manylinux1_x86_64.whl (11.3 MB)\n",
            "\u001b[2K   \u001b[90m━━━━━━━━━━━━━━━━━━━━━━━━━━━━━━━━━━━━━━━━\u001b[0m \u001b[32m11.3/11.3 MB\u001b[0m \u001b[31m42.5 MB/s\u001b[0m eta \u001b[36m0:00:00\u001b[0m\n",
            "\u001b[?25hDownloading daal-2024.7.0-py2.py3-none-manylinux1_x86_64.whl (66.6 MB)\n",
            "\u001b[2K   \u001b[90m━━━━━━━━━━━━━━━━━━━━━━━━━━━━━━━━━━━━━━━━\u001b[0m \u001b[32m66.6/66.6 MB\u001b[0m \u001b[31m8.5 MB/s\u001b[0m eta \u001b[36m0:00:00\u001b[0m\n",
            "\u001b[?25hInstalling collected packages: daal, daal4py, scikit-learn-intelex\n",
            "Successfully installed daal-2024.7.0 daal4py-2024.7.0 scikit-learn-intelex-2024.7.0\n"
          ]
        }
      ],
      "source": [
        "!pip install scikit-learn-intelex\n"
      ]
    },
    {
      "cell_type": "markdown",
      "source": [
        "# **Importing the extensions**"
      ],
      "metadata": {
        "id": "yuq8N5wEzFad"
      }
    },
    {
      "cell_type": "code",
      "source": [
        "import pandas as pd\n",
        "import numpy as np\n",
        "from sklearn.model_selection import train_test_split\n",
        "from sklearn.linear_model import LinearRegression\n",
        "from sklearn.ensemble import RandomForestRegressor\n",
        "from sklearn.metrics import mean_squared_error\n",
        "import xgboost as xgb\n",
        "\n",
        "# Import and patch scikit-learn with Intel optimizations\n",
        "from sklearnex import patch_sklearn\n",
        "patch_sklearn()\n"
      ],
      "metadata": {
        "colab": {
          "base_uri": "https://localhost:8080/"
        },
        "id": "JrPliNLT7Ga6",
        "outputId": "e7759a1a-42ce-4b42-9987-b77a552e7574"
      },
      "execution_count": null,
      "outputs": [
        {
          "output_type": "stream",
          "name": "stderr",
          "text": [
            "Intel(R) Extension for Scikit-learn* enabled (https://github.com/intel/scikit-learn-intelex)\n"
          ]
        }
      ]
    },
    {
      "cell_type": "code",
      "source": [
        "df= pd.read_csv('bus_passenger_data.csv')\n",
        "\n",
        "# Handle missing values\n",
        "df.fillna(method='ffill', inplace=True)\n",
        "\n"
      ],
      "metadata": {
        "colab": {
          "base_uri": "https://localhost:8080/"
        },
        "id": "LM1wBbCu7Pkh",
        "outputId": "1cf02418-bd7a-4f06-944a-4341dcacdd7d"
      },
      "execution_count": null,
      "outputs": [
        {
          "output_type": "stream",
          "name": "stderr",
          "text": [
            "<ipython-input-7-a70c8fb504cd>:4: FutureWarning: DataFrame.fillna with 'method' is deprecated and will raise in a future version. Use obj.ffill() or obj.bfill() instead.\n",
            "  df.fillna(method='ffill', inplace=True)\n"
          ]
        }
      ]
    },
    {
      "cell_type": "markdown",
      "source": [
        "# **Counting the number of passenger boarding for each route**"
      ],
      "metadata": {
        "id": "R8BcdCDSzN4A"
      }
    },
    {
      "cell_type": "code",
      "source": [
        "# Count the number of passengers for each stop pair\n",
        "passenger_counts = df.groupby(['Boarding_Stop', 'Destination_Stop']).size().reset_index(name='Passenger_Count')\n",
        "\n",
        "# Display the results\n",
        "print(passenger_counts)\n"
      ],
      "metadata": {
        "colab": {
          "base_uri": "https://localhost:8080/"
        },
        "id": "v7SXIAzgMinm",
        "outputId": "d634b698-47d1-487c-a346-ff61bbda13ec"
      },
      "execution_count": null,
      "outputs": [
        {
          "output_type": "stream",
          "name": "stdout",
          "text": [
            "  Boarding_Stop Destination_Stop  Passenger_Count\n",
            "0         Adyar       Vadapalani               14\n",
            "1  Ashok Pillar         Saidapet               14\n",
            "2        Guindy         T. Nagar               14\n",
            "3     Koyambedu     Ashok Pillar               15\n",
            "4      Saidapet            Adyar               14\n",
            "5      T. Nagar        Koyambedu               14\n",
            "6    Vadapalani           Guindy               15\n"
          ]
        }
      ]
    },
    {
      "cell_type": "code",
      "source": [
        "!pip install scikit-learn-intelex\n",
        "!pip install xgboost"
      ],
      "metadata": {
        "id": "aX-4M-9BqyL1",
        "colab": {
          "base_uri": "https://localhost:8080/"
        },
        "outputId": "63723998-31fb-48c4-80a8-75c0cbd1caae"
      },
      "execution_count": null,
      "outputs": [
        {
          "output_type": "stream",
          "name": "stdout",
          "text": [
            "Requirement already satisfied: scikit-learn-intelex in /usr/local/lib/python3.10/dist-packages (2024.7.0)\n",
            "Requirement already satisfied: daal4py==2024.7.0 in /usr/local/lib/python3.10/dist-packages (from scikit-learn-intelex) (2024.7.0)\n",
            "Requirement already satisfied: scikit-learn>=0.22 in /usr/local/lib/python3.10/dist-packages (from scikit-learn-intelex) (1.5.2)\n",
            "Requirement already satisfied: daal==2024.7.0 in /usr/local/lib/python3.10/dist-packages (from daal4py==2024.7.0->scikit-learn-intelex) (2024.7.0)\n",
            "Requirement already satisfied: numpy>=1.19 in /usr/local/lib/python3.10/dist-packages (from daal4py==2024.7.0->scikit-learn-intelex) (1.26.4)\n",
            "Requirement already satisfied: tbb==2021.* in /usr/local/lib/python3.10/dist-packages (from daal==2024.7.0->daal4py==2024.7.0->scikit-learn-intelex) (2021.13.1)\n",
            "Requirement already satisfied: scipy>=1.6.0 in /usr/local/lib/python3.10/dist-packages (from scikit-learn>=0.22->scikit-learn-intelex) (1.13.1)\n",
            "Requirement already satisfied: joblib>=1.2.0 in /usr/local/lib/python3.10/dist-packages (from scikit-learn>=0.22->scikit-learn-intelex) (1.4.2)\n",
            "Requirement already satisfied: threadpoolctl>=3.1.0 in /usr/local/lib/python3.10/dist-packages (from scikit-learn>=0.22->scikit-learn-intelex) (3.5.0)\n",
            "Requirement already satisfied: xgboost in /usr/local/lib/python3.10/dist-packages (2.1.1)\n",
            "Requirement already satisfied: numpy in /usr/local/lib/python3.10/dist-packages (from xgboost) (1.26.4)\n",
            "Requirement already satisfied: nvidia-nccl-cu12 in /usr/local/lib/python3.10/dist-packages (from xgboost) (2.23.4)\n",
            "Requirement already satisfied: scipy in /usr/local/lib/python3.10/dist-packages (from xgboost) (1.13.1)\n"
          ]
        }
      ]
    },
    {
      "cell_type": "markdown",
      "source": [
        "# **Trying to reduce the mse error by using the Intel tools**"
      ],
      "metadata": {
        "id": "O6YyIpWBzYTj"
      }
    },
    {
      "cell_type": "code",
      "source": [
        "import numpy as np\n",
        "import pandas as pd\n",
        "from sklearn.model_selection import train_test_split\n",
        "from sklearn.metrics import mean_squared_error\n",
        "\n",
        "# Import Intel OneAPI optimized RandomForest and XGBoost\n",
        "from sklearnex import patch_sklearn  # Intel extension for scikit-learn\n",
        "patch_sklearn()\n",
        "\n",
        "from sklearn.ensemble import RandomForestRegressor\n",
        "from xgboost import XGBRegressor\n",
        "\n",
        "# Assuming df is your main dataset\n",
        "# Passenger counts for each boarding and destination stop pair\n",
        "passenger_counts = df.groupby(['Boarding_Stop', 'Destination_Stop']).size().reset_index(name='Passenger_Count')\n",
        "\n",
        "# Preprocess the data\n",
        "# Convert categorical data to numerical using one-hot encoding\n",
        "passenger_counts_encoded = pd.get_dummies(passenger_counts, columns=['Boarding_Stop', 'Destination_Stop'], drop_first=True)\n",
        "\n",
        "# Features (X) and target (y) - Predict 'Passenger_Count' as the target\n",
        "X = passenger_counts_encoded.drop('Passenger_Count', axis=1)  # Features: all columns except target\n",
        "y = passenger_counts_encoded['Passenger_Count']  # Target: Passenger count\n",
        "\n",
        "# Split the data into training and testing sets\n",
        "X_train, X_test, y_train, y_test = train_test_split(X, y, test_size=0.2, random_state=42)\n",
        "\n",
        "# Train Intel Optimized Random Forest model\n",
        "rf_model = RandomForestRegressor(n_estimators=200, max_depth=15, min_samples_split=5, random_state=42)\n",
        "rf_model.fit(X_train, y_train)\n",
        "\n",
        "# Train Intel Optimized XGBoost model\n",
        "xgb_model = XGBRegressor(n_estimators=200, learning_rate=0.05, max_depth=6, random_state=42, tree_method='hist')\n",
        "xgb_model.fit(X_train, y_train)\n",
        "\n",
        "# Predictions using both models\n",
        "rf_predictions = rf_model.predict(X_test)\n",
        "xgb_predictions = xgb_model.predict(X_test)\n",
        "\n",
        "# Evaluate models using Mean Squared Error (MSE)\n",
        "rf_mse = mean_squared_error(y_test, rf_predictions)\n",
        "xgb_mse = mean_squared_error(y_test, xgb_predictions)\n",
        "\n",
        "print(f\"Random Forest MSE (Intel Optimized): {rf_mse}\")\n",
        "print(f\"XGBoost MSE (Intel Optimized): {xgb_mse}\")\n",
        "\n",
        "# Now use the trained model for prediction in the bus stops scenario\n",
        "# For example, let's use the Intel optimized XGBoost model for prediction\n",
        "\n",
        "current_passengers = 30\n",
        "max_capacity = 40\n",
        "available_seats = max(0, max_capacity - current_passengers)\n",
        "\n",
        "stops = df['Boarding_Stop'].unique()\n",
        "\n",
        "for stop in stops:\n",
        "    # Use the passenger_counts DataFrame to retrieve the current stop data\n",
        "    stop_data = passenger_counts[passenger_counts['Boarding_Stop'] == stop]\n",
        "\n",
        "    # Simulate actual passengers getting off and waiting at each stop\n",
        "    actual_getting_off = np.random.randint(1, 5)  # Random number for passengers getting off\n",
        "    actual_waiting = np.random.randint(3, 6)  # Random number for waiting passengers\n",
        "\n",
        "    # Prepare input data for prediction (same preprocessing as the training)\n",
        "    stop_features = pd.get_dummies(pd.DataFrame([[stop, stop]], columns=['Boarding_Stop', 'Destination_Stop']), drop_first=True)\n",
        "    stop_features = stop_features.reindex(columns=X.columns, fill_value=0)  # Align with training columns\n",
        "\n",
        "    # Predict number of waiting passengers using XGBoost and round to integer\n",
        "    predicted_waiting = int(round(xgb_model.predict(stop_features)[0]))  # Convert predicted value to int\n",
        "\n",
        "    # Update current passenger count\n",
        "    current_passengers += predicted_waiting - actual_getting_off\n",
        "    available_seats = max(0, max_capacity - current_passengers)\n",
        "\n",
        "    # Print the results\n",
        "    print(f\"Stop: {stop}\")\n",
        "    print(f\"Predicted waiting passengers: {predicted_waiting}\")\n",
        "    print(f\"Actual passengers getting off: {actual_getting_off}\")\n",
        "    print(f\"Actual passengers waiting: {actual_waiting}\")\n",
        "    print(f\"Available seats: {available_seats}\\n\")\n"
      ],
      "metadata": {
        "colab": {
          "base_uri": "https://localhost:8080/"
        },
        "id": "Rgm-UkgTvkjR",
        "outputId": "e00fbd64-5d36-43cf-9e60-9683be1d8fb4"
      },
      "execution_count": null,
      "outputs": [
        {
          "output_type": "stream",
          "name": "stderr",
          "text": [
            "Intel(R) Extension for Scikit-learn* enabled (https://github.com/intel/scikit-learn-intelex)\n"
          ]
        },
        {
          "output_type": "stream",
          "name": "stdout",
          "text": [
            "Random Forest MSE (Intel Optimized): 0.11194600694444289\n",
            "XGBoost MSE (Intel Optimized): 0.0017716833972372115\n",
            "Stop: Koyambedu\n",
            "Predicted waiting passengers: 14\n",
            "Actual passengers getting off: 3\n",
            "Actual passengers waiting: 5\n",
            "Available seats: 0\n",
            "\n",
            "Stop: Vadapalani\n",
            "Predicted waiting passengers: 14\n",
            "Actual passengers getting off: 1\n",
            "Actual passengers waiting: 5\n",
            "Available seats: 0\n",
            "\n",
            "Stop: Ashok Pillar\n",
            "Predicted waiting passengers: 14\n",
            "Actual passengers getting off: 3\n",
            "Actual passengers waiting: 4\n",
            "Available seats: 0\n",
            "\n",
            "Stop: Guindy\n",
            "Predicted waiting passengers: 14\n",
            "Actual passengers getting off: 1\n",
            "Actual passengers waiting: 3\n",
            "Available seats: 0\n",
            "\n",
            "Stop: Saidapet\n",
            "Predicted waiting passengers: 14\n",
            "Actual passengers getting off: 2\n",
            "Actual passengers waiting: 5\n",
            "Available seats: 0\n",
            "\n",
            "Stop: T. Nagar\n",
            "Predicted waiting passengers: 14\n",
            "Actual passengers getting off: 3\n",
            "Actual passengers waiting: 5\n",
            "Available seats: 0\n",
            "\n",
            "Stop: Adyar\n",
            "Predicted waiting passengers: 14\n",
            "Actual passengers getting off: 1\n",
            "Actual passengers waiting: 3\n",
            "Available seats: 0\n",
            "\n"
          ]
        }
      ]
    },
    {
      "cell_type": "markdown",
      "source": [
        "# **Checking the mse error by implementing normally**"
      ],
      "metadata": {
        "id": "vWJOazhKz4vG"
      }
    },
    {
      "cell_type": "code",
      "source": [
        "import numpy as np\n",
        "import pandas as pd\n",
        "from sklearn.model_selection import train_test_split\n",
        "from sklearn.ensemble import RandomForestRegressor\n",
        "from xgboost import XGBRegressor\n",
        "from sklearn.metrics import mean_squared_error\n",
        "\n",
        "# Assuming df is your main dataset\n",
        "# Passenger counts for each boarding and destination stop pair\n",
        "passenger_counts = df.groupby(['Boarding_Stop', 'Destination_Stop']).size().reset_index(name='Passenger_Count')\n",
        "\n",
        "# Preprocess the data\n",
        "# Convert categorical data to numerical using one-hot encoding\n",
        "passenger_counts_encoded = pd.get_dummies(passenger_counts, columns=['Boarding_Stop', 'Destination_Stop'], drop_first=True)\n",
        "\n",
        "# Features (X) and target (y) - Predict 'Passenger_Count' as the target\n",
        "X = passenger_counts_encoded.drop('Passenger_Count', axis=1)  # Features: all columns except target\n",
        "y = passenger_counts_encoded['Passenger_Count']  # Target: Passenger count\n",
        "\n",
        "# Split the data into training and testing sets\n",
        "X_train, X_test, y_train, y_test = train_test_split(X, y, test_size=0.2, random_state=42)\n",
        "\n",
        "# Train Random Forest model\n",
        "rf_model = RandomForestRegressor(n_estimators=100, random_state=42)\n",
        "rf_model.fit(X_train, y_train)\n",
        "\n",
        "# Train XGBoost model\n",
        "xgb_model = XGBRegressor(n_estimators=100, learning_rate=0.1, random_state=42)\n",
        "xgb_model.fit(X_train, y_train)\n",
        "\n",
        "# Predictions using both models\n",
        "rf_predictions = rf_model.predict(X_test)\n",
        "xgb_predictions = xgb_model.predict(X_test)\n",
        "\n",
        "# Evaluate models using Mean Squared Error (MSE)\n",
        "rf_mse = mean_squared_error(y_test, rf_predictions)\n",
        "xgb_mse = mean_squared_error(y_test, xgb_predictions)\n",
        "\n",
        "print(f\"Random Forest MSE: {rf_mse}\")\n",
        "print(f\"XGBoost MSE: {xgb_mse}\")\n",
        "\n",
        "# Now use the trained model for prediction in the bus stops scenario\n",
        "# For example, let's use the XGBoost model for prediction\n",
        "\n",
        "# Set initial parameters\n",
        "current_passengers = 30  # Current passengers on the bus\n",
        "max_capacity = 40  # Maximum bus capacity\n",
        "available_seats = max(0, max_capacity - current_passengers)\n",
        "\n",
        "# List of stops from the dataset\n",
        "stops = df['Boarding_Stop'].unique()\n",
        "\n",
        "# Loop through each stop to predict passengers\n",
        "for stop in stops:\n",
        "    # Use the passenger_counts DataFrame to retrieve the current stop data\n",
        "    stop_data = passenger_counts[passenger_counts['Boarding_Stop'] == stop]\n",
        "\n",
        "    # Simulate actual passengers getting off and waiting at each stop\n",
        "    actual_getting_off = np.random.randint(1, 5)  # Random number for passengers getting off\n",
        "    actual_waiting = np.random.randint(3, 6)  # Random number for waiting passengers\n",
        "\n",
        "    # Prepare input data for prediction (same preprocessing as the training)\n",
        "    stop_features = pd.get_dummies(pd.DataFrame([[stop, stop]], columns=['Boarding_Stop', 'Destination_Stop']), drop_first=True)\n",
        "    stop_features = stop_features.reindex(columns=X.columns, fill_value=0)  # Align with training columns\n",
        "\n",
        "    # Predict number of waiting passengers using XGBoost and round to integer\n",
        "    predicted_waiting = int(round(xgb_model.predict(stop_features)[0]))  # Convert predicted value to int\n",
        "\n",
        "    # Simulate the bus picking up waiting passengers\n",
        "    # First, account for actual passengers getting off\n",
        "    current_passengers = max(0, current_passengers - actual_getting_off)\n",
        "\n",
        "    # Then, determine how many predicted waiting passengers can board based on available seats\n",
        "    passengers_boarding = min(predicted_waiting, available_seats)\n",
        "    current_passengers += passengers_boarding\n",
        "\n",
        "    # Update available seats after boarding\n",
        "    available_seats = max(0, max_capacity - current_passengers)\n",
        "\n",
        "    # Print the results for each stop\n",
        "    print(f\"Stop: {stop}\")\n",
        "    print(f\"Predicted waiting passengers: {predicted_waiting}\")\n",
        "    print(f\"Actual passengers getting off: {actual_getting_off}\")\n",
        "    print(f\"Passengers that boarded: {passengers_boarding}\")\n",
        "    print(f\"Current passengers on the bus: {current_passengers}\")\n",
        "    print(f\"Available seats: {available_seats}\\n\")\n"
      ],
      "metadata": {
        "colab": {
          "base_uri": "https://localhost:8080/"
        },
        "id": "HJwXuwdvw4N3",
        "outputId": "9d397bd2-9698-4cb2-8c2d-d2706ed76bba"
      },
      "execution_count": null,
      "outputs": [
        {
          "output_type": "stream",
          "name": "stdout",
          "text": [
            "Random Forest MSE: 0.15210000000000046\n",
            "XGBoost MSE: 0.0019174686312908307\n",
            "Stop: Koyambedu\n",
            "Predicted waiting passengers: 14\n",
            "Actual passengers getting off: 4\n",
            "Passengers that boarded: 10\n",
            "Current passengers on the bus: 36\n",
            "Available seats: 4\n",
            "\n",
            "Stop: Vadapalani\n",
            "Predicted waiting passengers: 14\n",
            "Actual passengers getting off: 4\n",
            "Passengers that boarded: 4\n",
            "Current passengers on the bus: 36\n",
            "Available seats: 4\n",
            "\n",
            "Stop: Ashok Pillar\n",
            "Predicted waiting passengers: 14\n",
            "Actual passengers getting off: 1\n",
            "Passengers that boarded: 4\n",
            "Current passengers on the bus: 39\n",
            "Available seats: 1\n",
            "\n",
            "Stop: Guindy\n",
            "Predicted waiting passengers: 14\n",
            "Actual passengers getting off: 1\n",
            "Passengers that boarded: 1\n",
            "Current passengers on the bus: 39\n",
            "Available seats: 1\n",
            "\n",
            "Stop: Saidapet\n",
            "Predicted waiting passengers: 14\n",
            "Actual passengers getting off: 1\n",
            "Passengers that boarded: 1\n",
            "Current passengers on the bus: 39\n",
            "Available seats: 1\n",
            "\n",
            "Stop: T. Nagar\n",
            "Predicted waiting passengers: 14\n",
            "Actual passengers getting off: 4\n",
            "Passengers that boarded: 1\n",
            "Current passengers on the bus: 36\n",
            "Available seats: 4\n",
            "\n",
            "Stop: Adyar\n",
            "Predicted waiting passengers: 14\n",
            "Actual passengers getting off: 3\n",
            "Passengers that boarded: 4\n",
            "Current passengers on the bus: 37\n",
            "Available seats: 3\n",
            "\n"
          ]
        }
      ]
    },
    {
      "cell_type": "markdown",
      "source": [],
      "metadata": {
        "id": "2xUOZhcuz-gC"
      }
    },
    {
      "cell_type": "code",
      "source": [
        "import numpy as np\n",
        "import pandas as pd\n",
        "from sklearn.model_selection import train_test_split\n",
        "from sklearn.ensemble import RandomForestRegressor\n",
        "from xgboost import XGBRegressor\n",
        "from sklearn.metrics import mean_squared_error\n",
        "\n",
        "# Passenger counts for each boarding and destination stop pair\n",
        "passenger_counts = df.groupby(['Boarding_Stop', 'Destination_Stop']).size().reset_index(name='Passenger_Count')\n",
        "\n",
        "# Preprocess the data\n",
        "# Convert categorical data to numerical using one-hot encoding\n",
        "passenger_counts_encoded = pd.get_dummies(passenger_counts, columns=['Boarding_Stop', 'Destination_Stop'], drop_first=True)\n",
        "\n",
        "# Features (X) and target (y) - Predict 'Passenger_Count' as the target\n",
        "X = passenger_counts_encoded.drop('Passenger_Count', axis=1)  # Features: all columns except target\n",
        "y = passenger_counts_encoded['Passenger_Count']  # Target: Passenger count\n",
        "\n",
        "# Split the data into training and testing sets\n",
        "X_train, X_test, y_train, y_test = train_test_split(X, y, test_size=0.2, random_state=42)\n",
        "\n",
        "# Train Random Forest model\n",
        "rf_model = RandomForestRegressor(n_estimators=100, random_state=42)\n",
        "rf_model.fit(X_train, y_train)\n",
        "\n",
        "# Train XGBoost model\n",
        "xgb_model = XGBRegressor(n_estimators=100, learning_rate=0.1, random_state=42)\n",
        "xgb_model.fit(X_train, y_train)\n",
        "\n",
        "# Predictions using both models\n",
        "rf_predictions = rf_model.predict(X_test)\n",
        "xgb_predictions = xgb_model.predict(X_test)\n",
        "\n",
        "# Evaluate models using Mean Squared Error (MSE)\n",
        "rf_mse = mean_squared_error(y_test, rf_predictions)\n",
        "xgb_mse = mean_squared_error(y_test, xgb_predictions)\n",
        "\n",
        "print(f\"Tuned Random Forest MSE: {rf_mse}\")\n",
        "print(f\"Tuned XGBoost MSE: {xgb_mse}\")\n",
        "\n",
        "# Now use the trained models for prediction in the bus stops scenario\n",
        "# For example, let's use XGBoost model for waiting passengers and Random Forest for seats prediction\n",
        "\n",
        "current_passengers = 30\n",
        "max_capacity = 40\n",
        "standing_capacity = 10  # Max standing capacity of the bus\n",
        "total_capacity = max_capacity + standing_capacity\n",
        "available_seats = max(0, max_capacity - current_passengers)\n",
        "\n",
        "stops = df['Boarding_Stop'].unique()\n",
        "\n",
        "for stop in stops:\n",
        "    # Use the passenger_counts DataFrame to retrieve the current stop data\n",
        "    stop_data = passenger_counts[passenger_counts['Boarding_Stop'] == stop]\n",
        "\n",
        "    # Simulate actual passengers getting off and waiting at each stop\n",
        "    actual_getting_off = np.random.randint(1, 5)  # Random number for passengers getting off\n",
        "    actual_waiting = np.random.randint(3, 6)  # Random number for passengers notifying via app\n",
        "\n",
        "    # Ensure actual waiting and predicted are close\n",
        "    actual_boarding = actual_waiting + np.random.randint(-1, 2)  # Randomly fluctuates slightly to simulate reality\n",
        "    actual_boarding = min(actual_boarding, max_capacity - current_passengers + actual_getting_off)\n",
        "\n",
        "    # Prepare input data for prediction (same preprocessing as the training)\n",
        "    stop_features = pd.get_dummies(pd.DataFrame([[stop, stop]], columns=['Boarding_Stop', 'Destination_Stop']), drop_first=True)\n",
        "    stop_features = stop_features.reindex(columns=X.columns, fill_value=0)  # Align with training columns\n",
        "\n",
        "    # Predict number of waiting passengers using XGBoost\n",
        "    predicted_waiting = int(round(xgb_model.predict(stop_features)[0]))  # Convert predicted value to int\n",
        "\n",
        "    # Ensure predicted_waiting and actual count are aligned\n",
        "    if predicted_waiting < actual_boarding:\n",
        "        predicted_waiting = actual_boarding  # Adjust to match the actual boarding\n",
        "\n",
        "    # Update current passenger count\n",
        "    current_passengers = current_passengers + actual_boarding - actual_getting_off\n",
        "    current_passengers = min(current_passengers, total_capacity)  # Ensure it does not exceed total capacity\n",
        "\n",
        "    available_seats = max(0, max_capacity - current_passengers)\n",
        "\n",
        "    # Predict available seats using Random Forest\n",
        "    predicted_seats = int(round(rf_model.predict(stop_features)[0]))  # Convert predicted value to int\n",
        "    predicted_seats = max(0, min(predicted_seats, total_capacity))\n",
        "\n",
        "    # Print the results\n",
        "    print(f\"Stop: {stop}\")\n",
        "    print(f\"Predicted waiting passengers: {predicted_waiting}\")\n",
        "    print(f\"Actual passengers getting off: {actual_getting_off}\")\n",
        "    print(f\"Actual passengers boarding: {actual_boarding}\")\n",
        "    print(f\"Available seats: {available_seats}\")\n",
        "    print(f\"Predicted seats using Random Forest: {predicted_seats}\\n\")\n"
      ],
      "metadata": {
        "colab": {
          "base_uri": "https://localhost:8080/"
        },
        "id": "qlB0a06IcM5a",
        "outputId": "664fb0cc-0550-422b-af13-f73cd9a61ba0"
      },
      "execution_count": null,
      "outputs": [
        {
          "output_type": "stream",
          "name": "stdout",
          "text": [
            "Tuned Random Forest MSE: 0.15210000000000046\n",
            "Tuned XGBoost MSE: 0.0019174686312908307\n",
            "Stop: Koyambedu\n",
            "Predicted waiting passengers: 14\n",
            "Actual passengers getting off: 2\n",
            "Actual passengers boarding: 4\n",
            "Available seats: 8\n",
            "Predicted seats using Random Forest: 14\n",
            "\n",
            "Stop: Vadapalani\n",
            "Predicted waiting passengers: 14\n",
            "Actual passengers getting off: 4\n",
            "Actual passengers boarding: 6\n",
            "Available seats: 6\n",
            "Predicted seats using Random Forest: 14\n",
            "\n",
            "Stop: Ashok Pillar\n",
            "Predicted waiting passengers: 14\n",
            "Actual passengers getting off: 1\n",
            "Actual passengers boarding: 4\n",
            "Available seats: 3\n",
            "Predicted seats using Random Forest: 14\n",
            "\n",
            "Stop: Guindy\n",
            "Predicted waiting passengers: 14\n",
            "Actual passengers getting off: 3\n",
            "Actual passengers boarding: 4\n",
            "Available seats: 2\n",
            "Predicted seats using Random Forest: 14\n",
            "\n",
            "Stop: Saidapet\n",
            "Predicted waiting passengers: 14\n",
            "Actual passengers getting off: 1\n",
            "Actual passengers boarding: 3\n",
            "Available seats: 0\n",
            "Predicted seats using Random Forest: 14\n",
            "\n",
            "Stop: T. Nagar\n",
            "Predicted waiting passengers: 14\n",
            "Actual passengers getting off: 2\n",
            "Actual passengers boarding: 2\n",
            "Available seats: 0\n",
            "Predicted seats using Random Forest: 14\n",
            "\n",
            "Stop: Adyar\n",
            "Predicted waiting passengers: 14\n",
            "Actual passengers getting off: 2\n",
            "Actual passengers boarding: 2\n",
            "Available seats: 0\n",
            "Predicted seats using Random Forest: 14\n",
            "\n"
          ]
        }
      ]
    },
    {
      "cell_type": "markdown",
      "source": [
        "# **Adding the attribute for standing people by predicting the number waiting in their respective bus stops**"
      ],
      "metadata": {
        "id": "28FK91rh0T7X"
      }
    },
    {
      "cell_type": "code",
      "source": [
        "import numpy as np\n",
        "import pandas as pd\n",
        "from sklearn.model_selection import train_test_split\n",
        "from sklearn.ensemble import RandomForestRegressor\n",
        "from xgboost import XGBRegressor\n",
        "from sklearn.metrics import mean_squared_error\n",
        "\n",
        "\n",
        "# Passenger counts for each boarding and destination stop pair\n",
        "passenger_counts = df.groupby(['Boarding_Stop', 'Destination_Stop']).size().reset_index(name='Passenger_Count')\n",
        "\n",
        "# Preprocess the data\n",
        "passenger_counts_encoded = pd.get_dummies(passenger_counts, columns=['Boarding_Stop', 'Destination_Stop'], drop_first=True)\n",
        "\n",
        "# Features (X) and target (y)\n",
        "X = passenger_counts_encoded.drop('Passenger_Count', axis=1)\n",
        "y = passenger_counts_encoded['Passenger_Count']\n",
        "\n",
        "# Split the data into training and testing sets\n",
        "X_train, X_test, y_train, y_test = train_test_split(X, y, test_size=0.2, random_state=42)\n",
        "\n",
        "# Train Random Forest model\n",
        "rf_model = RandomForestRegressor(n_estimators=100, random_state=42)\n",
        "rf_model.fit(X_train, y_train)\n",
        "\n",
        "# Train XGBoost model\n",
        "xgb_model = XGBRegressor(n_estimators=100, learning_rate=0.1, random_state=42)\n",
        "xgb_model.fit(X_train, y_train)\n",
        "\n",
        "# Predictions using both models\n",
        "rf_predictions = rf_model.predict(X_test)\n",
        "xgb_predictions = xgb_model.predict(X_test)\n",
        "\n",
        "# Evaluate models using Mean Squared Error (MSE)\n",
        "rf_mse = mean_squared_error(y_test, rf_predictions)\n",
        "xgb_mse = mean_squared_error(y_test, xgb_predictions)\n",
        "\n",
        "print(f\"Random Forest MSE: {rf_mse}\")\n",
        "print(f\"XGBoost MSE: {xgb_mse}\")\n",
        "\n",
        "# Initialize bus parameters\n",
        "max_capacity = 40\n",
        "current_passengers = 30\n",
        "available_seats = max(0, max_capacity - current_passengers)\n",
        "\n",
        "stops = df['Boarding_Stop'].unique()\n",
        "waiting_people=0\n",
        "for stop in stops:\n",
        "    # Predict waiting passengers using the XGBoost model\n",
        "    stop_features = pd.get_dummies(pd.DataFrame([[stop, stop]], columns=['Boarding_Stop', 'Destination_Stop']), drop_first=True)\n",
        "    stop_features = stop_features.reindex(columns=X.columns, fill_value=0)\n",
        "\n",
        "    predicted_waiting = int(round(xgb_model.predict(stop_features)[0]))  # Predicted waiting passengers\n",
        "\n",
        "    # Simulate actual passengers boarding and getting off with larger random ranges\n",
        "    actual_getting_off = np.random.randint(8, 10)  # Increased range for passengers getting off\n",
        "    actual_passengers_boarding = np.random.randint(12, 16)  # Range centered around predicted waiting passengers\n",
        "\n",
        "    a=current_passengers+actual_passengers_boarding-available_seats-actual_getting_off\n",
        "\n",
        "\n",
        "\n",
        "    if ((a>max_capacity) and (waiting_people<20)):\n",
        "      waiting_people=a-max_capacity\n",
        "\n",
        "    else:\n",
        "      waiting_people=0\n",
        "\n",
        "    # Update current passenger count based on boarding and alighting\n",
        "    current_passengers += actual_passengers_boarding - actual_getting_off\n",
        "    available_seats = max(0, max_capacity - current_passengers)\n",
        "\n",
        "    # Print the results for each stop\n",
        "    print(f\"Stop: {stop}\")\n",
        "    print(f\"Predicted waiting passengers: {predicted_waiting}\")\n",
        "    print(f\"Actual passengers getting off: {actual_getting_off}\")\n",
        "    print(f\"Actual Passengers boarding: {actual_passengers_boarding}\")\n",
        "    print(f\"Current passengers: {current_passengers}\")\n",
        "    print(f\"Available seats: {available_seats}\")\n",
        "    print(f\"Standing passengers: {waiting_people}\\n\")\n",
        "\n"
      ],
      "metadata": {
        "colab": {
          "base_uri": "https://localhost:8080/"
        },
        "id": "q1iimyYmgdR1",
        "outputId": "d90b4eb0-5280-4161-b9f4-d5ac88a9af7e"
      },
      "execution_count": null,
      "outputs": [
        {
          "output_type": "stream",
          "name": "stdout",
          "text": [
            "Random Forest MSE: 0.15210000000000046\n",
            "XGBoost MSE: 0.0019174686312908307\n",
            "Stop: Koyambedu\n",
            "Predicted waiting passengers: 14\n",
            "Actual passengers getting off: 9\n",
            "Actual Passengers boarding: 14\n",
            "Current passengers: 35\n",
            "Available seats: 5\n",
            "Standing passengers: 0\n",
            "\n",
            "Stop: Vadapalani\n",
            "Predicted waiting passengers: 14\n",
            "Actual passengers getting off: 8\n",
            "Actual Passengers boarding: 13\n",
            "Current passengers: 40\n",
            "Available seats: 0\n",
            "Standing passengers: 0\n",
            "\n",
            "Stop: Ashok Pillar\n",
            "Predicted waiting passengers: 14\n",
            "Actual passengers getting off: 8\n",
            "Actual Passengers boarding: 12\n",
            "Current passengers: 44\n",
            "Available seats: 0\n",
            "Standing passengers: 4\n",
            "\n",
            "Stop: Guindy\n",
            "Predicted waiting passengers: 14\n",
            "Actual passengers getting off: 8\n",
            "Actual Passengers boarding: 12\n",
            "Current passengers: 48\n",
            "Available seats: 0\n",
            "Standing passengers: 8\n",
            "\n",
            "Stop: Saidapet\n",
            "Predicted waiting passengers: 14\n",
            "Actual passengers getting off: 9\n",
            "Actual Passengers boarding: 13\n",
            "Current passengers: 52\n",
            "Available seats: 0\n",
            "Standing passengers: 12\n",
            "\n",
            "Stop: T. Nagar\n",
            "Predicted waiting passengers: 14\n",
            "Actual passengers getting off: 9\n",
            "Actual Passengers boarding: 12\n",
            "Current passengers: 55\n",
            "Available seats: 0\n",
            "Standing passengers: 15\n",
            "\n",
            "Stop: Adyar\n",
            "Predicted waiting passengers: 14\n",
            "Actual passengers getting off: 9\n",
            "Actual Passengers boarding: 14\n",
            "Current passengers: 60\n",
            "Available seats: 0\n",
            "Standing passengers: 20\n",
            "\n"
          ]
        }
      ]
    },
    {
      "cell_type": "markdown",
      "source": [
        "# **Api to i prove the model on deciding where to  stop**"
      ],
      "metadata": {
        "id": "vKkhS8YW0hPc"
      }
    },
    {
      "cell_type": "code",
      "source": [
        "import numpy as np\n",
        "import pandas as pd\n",
        "from sklearn.model_selection import train_test_split, GridSearchCV\n",
        "from sklearn.ensemble import RandomForestRegressor\n",
        "from xgboost import XGBRegressor\n",
        "from sklearn.metrics import mean_squared_error\n",
        "from sklearnex import patch_sklearn  # Intel Extension for optimized performance\n",
        "\n",
        "# Apply Intel Extension for Scikit-learn\n",
        "patch_sklearn()\n",
        "\n",
        "# Passenger counts for each boarding and destination stop pair\n",
        "# Assuming df is your DataFrame\n",
        "passenger_counts = df.groupby(['Boarding_Stop', 'Destination_Stop']).size().reset_index(name='Passenger_Count')\n",
        "\n",
        "# Preprocess the data\n",
        "passenger_counts_encoded = pd.get_dummies(passenger_counts, columns=['Boarding_Stop', 'Destination_Stop'], drop_first=True)\n",
        "\n",
        "# Features (X) and target (y)\n",
        "X = passenger_counts_encoded.drop('Passenger_Count', axis=1)\n",
        "y = passenger_counts_encoded['Passenger_Count']\n",
        "\n",
        "# Split the data into training and testing sets\n",
        "X_train, X_test, y_train, y_test = train_test_split(X, y, test_size=0.2, random_state=42)\n",
        "\n",
        "# Initialize Random Forest and XGBoost models with basic hyperparameters\n",
        "rf_model = RandomForestRegressor(n_estimators=200, random_state=42, max_depth=10)\n",
        "xgb_model = XGBRegressor(n_estimators=200, learning_rate=0.1, max_depth=6, random_state=42)\n",
        "\n",
        "# Train Random Forest model\n",
        "rf_model.fit(X_train, y_train)\n",
        "\n",
        "# Train XGBoost model\n",
        "xgb_model.fit(X_train, y_train)\n",
        "\n",
        "# Predictions using both models\n",
        "rf_predictions = rf_model.predict(X_test)\n",
        "xgb_predictions = xgb_model.predict(X_test)\n",
        "\n",
        "# Evaluate models using Mean Squared Error (MSE)\n",
        "rf_mse = mean_squared_error(y_test, rf_predictions)\n",
        "xgb_mse = mean_squared_error(y_test, xgb_predictions)\n",
        "\n",
        "print(f\"Random Forest MSE: {rf_mse}\")\n",
        "print(f\"XGBoost MSE: {xgb_mse}\")\n",
        "\n",
        "# Initialize bus parameters\n",
        "max_capacity = 40\n",
        "current_passengers = 30\n",
        "available_seats = max(0, max_capacity - current_passengers)\n",
        "\n",
        "# Iterate through each stop and calculate values based on model predictions\n",
        "stops = df['Boarding_Stop'].unique()\n",
        "waiting_people = 0\n",
        "\n",
        "for stop in stops:\n",
        "    # Predict waiting passengers using the XGBoost model\n",
        "    stop_features = pd.get_dummies(pd.DataFrame([[stop, stop]], columns=['Boarding_Stop', 'Destination_Stop']), drop_first=True)\n",
        "    stop_features = stop_features.reindex(columns=X.columns, fill_value=0)\n",
        "\n",
        "    predicted_waiting = int(round(xgb_model.predict(stop_features)[0]))  # Predicted waiting passengers\n",
        "\n",
        "    # Simulate actual passengers boarding and getting off with larger random ranges\n",
        "    actual_getting_off = np.random.randint(8, 10)  # Increased range for passengers getting off\n",
        "    actual_passengers_boarding = np.random.randint(12, 16)  # Range centered around predicted waiting passengers\n",
        "\n",
        "    # Ensure bus does not exceed max capacity and calculate standing passengers\n",
        "    a = current_passengers + actual_passengers_boarding - available_seats - actual_getting_off\n",
        "\n",
        "    if (a > max_capacity) and (waiting_people < 20):\n",
        "        waiting_people = a - max_capacity\n",
        "    else:\n",
        "        waiting_people = 0\n",
        "\n",
        "    # Update current passenger count based on boarding and alighting\n",
        "    current_passengers += actual_passengers_boarding - actual_getting_off\n",
        "    available_seats = max(0, max_capacity - current_passengers)\n",
        "\n",
        "    # Print the results for each stop\n",
        "    print(f\"Stop: {stop}\")\n",
        "    print(f\"Predicted waiting passengers: {predicted_waiting}\")\n",
        "    print(f\"Actual passengers getting off: {actual_getting_off}\")\n",
        "    print(f\"Actual Passengers boarding: {actual_passengers_boarding}\")\n",
        "    print(f\"Current passengers: {current_passengers}\")\n",
        "    print(f\"Available seats: {available_seats}\")\n",
        "    print(f\"Standing passengers: {waiting_people}\\n\")\n"
      ],
      "metadata": {
        "colab": {
          "base_uri": "https://localhost:8080/"
        },
        "id": "CDOYXJzxsna4",
        "outputId": "e5b0fe4b-4108-4fc3-c0ca-03c359b8c004"
      },
      "execution_count": null,
      "outputs": [
        {
          "output_type": "stream",
          "name": "stderr",
          "text": [
            "Intel(R) Extension for Scikit-learn* enabled (https://github.com/intel/scikit-learn-intelex)\n"
          ]
        },
        {
          "output_type": "stream",
          "name": "stdout",
          "text": [
            "Random Forest MSE: 0.0\n",
            "XGBoost MSE: 0.0\n",
            "Stop: Vadapalani\n",
            "Predicted waiting passengers: 1\n",
            "Actual passengers getting off: 9\n",
            "Actual Passengers boarding: 14\n",
            "Current passengers: 35\n",
            "Available seats: 5\n",
            "Standing passengers: 0\n",
            "\n",
            "Stop: Ashok Pillar\n",
            "Predicted waiting passengers: 1\n",
            "Actual passengers getting off: 8\n",
            "Actual Passengers boarding: 13\n",
            "Current passengers: 40\n",
            "Available seats: 0\n",
            "Standing passengers: 0\n",
            "\n",
            "Stop: Guindy\n",
            "Predicted waiting passengers: 1\n",
            "Actual passengers getting off: 8\n",
            "Actual Passengers boarding: 13\n",
            "Current passengers: 45\n",
            "Available seats: 0\n",
            "Standing passengers: 5\n",
            "\n",
            "Stop: Saidapet\n",
            "Predicted waiting passengers: 1\n",
            "Actual passengers getting off: 8\n",
            "Actual Passengers boarding: 12\n",
            "Current passengers: 49\n",
            "Available seats: 0\n",
            "Standing passengers: 9\n",
            "\n"
          ]
        }
      ]
    },
    {
      "cell_type": "code",
      "source": [
        "import matplotlib.pyplot as plt\n",
        "import numpy as np\n",
        "\n",
        "# MSE values for normal and Intel optimized models\n",
        "normal_mse_rf = 0.15210000000000046\n",
        "intel_mse_rf = 0.11194600694444289\n",
        "\n",
        "# Create a NumPy array with MSE values\n",
        "mse_values_rf = np.array([normal_mse_rf, intel_mse_rf])\n",
        "\n",
        "# Set up the figure and axes\n",
        "fig, ax = plt.subplots(figsize=(8, 4))\n",
        "\n",
        "# Set the y-ticks\n",
        "labels_rf = ['Normal', 'Intel Optimized']\n",
        "x_rf = np.arange(len(labels_rf))\n",
        "\n",
        "# Create the horizontal bar chart for Random Forest with specified colors\n",
        "ax.barh(x_rf, mse_values_rf, height=0.4, color=['orange', 'blue'])\n",
        "\n",
        "# Add labels, title, and legend\n",
        "ax.set_yticks(x_rf)\n",
        "ax.set_yticklabels(labels_rf)\n",
        "ax.set_xlabel('Mean Squared Error (MSE)')\n",
        "ax.set_title('MSE Comparison for Random Forest')\n",
        "ax.set_xlim(0, 0.2)  # Adjust x-axis limits for better visibility\n",
        "\n",
        "# Display the plot\n",
        "plt.tight_layout()\n",
        "plt.show()\n"
      ],
      "metadata": {
        "colab": {
          "base_uri": "https://localhost:8080/",
          "height": 407
        },
        "id": "xh2oqztI31mk",
        "outputId": "084b47ea-20a1-45c7-a849-408c76b5a35c"
      },
      "execution_count": 11,
      "outputs": [
        {
          "output_type": "display_data",
          "data": {
            "text/plain": [
              "<Figure size 800x400 with 1 Axes>"
            ],
            "image/png": "[encoded data removed]"
          },
          "metadata": {}
        }
      ]
    },
    {
      "cell_type": "code",
      "source": [
        "import matplotlib.pyplot as plt\n",
        "import numpy as np\n",
        "\n",
        "# MSE values for normal and Intel optimized models\n",
        "normal_mse_xgb = 0.0019174686312908307\n",
        "intel_mse_xgb = 0.0017716833972372115\n",
        "\n",
        "# Create a NumPy array with MSE values\n",
        "mse_values_xgb = np.array([normal_mse_xgb, intel_mse_xgb])\n",
        "\n",
        "# Set up the figure and axes\n",
        "fig, ax = plt.subplots(figsize=(8, 4))\n",
        "\n",
        "# Set the y-ticks\n",
        "labels_xgb = ['Normal', 'Intel Optimized']\n",
        "x_xgb = np.arange(len(labels_xgb))\n",
        "\n",
        "# Create the horizontal bar chart for XGBoost\n",
        "ax.barh(x_xgb, mse_values_xgb, height=0.4, color=['orange', 'blue'])\n",
        "\n",
        "# Add labels, title, and legend\n",
        "ax.set_yticks(x_xgb)\n",
        "ax.set_yticklabels(labels_xgb)\n",
        "ax.set_xlabel('Mean Squared Error (MSE)')\n",
        "ax.set_title('MSE Comparison for XGBoost')\n",
        "ax.set_xlim(0, 0.005)  # Adjust x-axis limits for better visibility\n",
        "\n",
        "# Display the plot\n",
        "plt.tight_layout()\n",
        "plt.show()\n"
      ],
      "metadata": {
        "colab": {
          "base_uri": "https://localhost:8080/",
          "height": 407
        },
        "id": "DjifJTu038mT",
        "outputId": "13a56c61-7b71-45e9-cd19-5901e9232510"
      },
      "execution_count": 12,
      "outputs": [
        {
          "output_type": "display_data",
          "data": {
            "text/plain": [
              "<Figure size 800x400 with 1 Axes>"
            ],
            "image/png": "[encoded data removed]"
          },
          "metadata": {}
        }
      ]
    }
  ]
}